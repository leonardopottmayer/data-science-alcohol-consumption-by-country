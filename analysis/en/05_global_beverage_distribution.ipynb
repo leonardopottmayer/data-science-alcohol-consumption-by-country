{
 "cells": [
  {
   "cell_type": "markdown",
   "id": "bdc8e122",
   "metadata": {},
   "source": [
    "## 5. Proportion of the most consumed beverage type worldwide\n",
    "\n",
    "In this analysis, we aim to understand which type of alcoholic beverage is the most consumed globally."
   ]
  },
  {
   "cell_type": "code",
   "execution_count": 1,
   "id": "4e4f054f",
   "metadata": {},
   "outputs": [],
   "source": [
    "import pandas as pd"
   ]
  },
  {
   "cell_type": "code",
   "execution_count": 2,
   "id": "c90c01a4",
   "metadata": {},
   "outputs": [],
   "source": [
    "datasetPath = '../../data/drinks.csv'\n",
    "df = pd.read_csv(datasetPath)"
   ]
  },
  {
   "cell_type": "code",
   "execution_count": 3,
   "id": "33231b9d",
   "metadata": {},
   "outputs": [
    {
     "data": {
      "text/html": [
       "<div>\n",
       "<style scoped>\n",
       "    .dataframe tbody tr th:only-of-type {\n",
       "        vertical-align: middle;\n",
       "    }\n",
       "\n",
       "    .dataframe tbody tr th {\n",
       "        vertical-align: top;\n",
       "    }\n",
       "\n",
       "    .dataframe thead th {\n",
       "        text-align: right;\n",
       "    }\n",
       "</style>\n",
       "<table border=\"1\" class=\"dataframe\">\n",
       "  <thead>\n",
       "    <tr style=\"text-align: right;\">\n",
       "      <th></th>\n",
       "      <th>Beverage</th>\n",
       "      <th>Total Servings</th>\n",
       "    </tr>\n",
       "  </thead>\n",
       "  <tbody>\n",
       "    <tr>\n",
       "      <th>0</th>\n",
       "      <td>Beer</td>\n",
       "      <td>20489</td>\n",
       "    </tr>\n",
       "    <tr>\n",
       "      <th>1</th>\n",
       "      <td>Spirits</td>\n",
       "      <td>15632</td>\n",
       "    </tr>\n",
       "    <tr>\n",
       "      <th>2</th>\n",
       "      <td>Wine</td>\n",
       "      <td>9544</td>\n",
       "    </tr>\n",
       "  </tbody>\n",
       "</table>\n",
       "</div>"
      ],
      "text/plain": [
       "  Beverage  Total Servings\n",
       "0     Beer           20489\n",
       "1  Spirits           15632\n",
       "2     Wine            9544"
      ]
     },
     "metadata": {},
     "output_type": "display_data"
    }
   ],
   "source": [
    "total_beer = df['beer_servings'].sum()\n",
    "total_wine = df['wine_servings'].sum()\n",
    "total_spirit = df['spirit_servings'].sum()\n",
    "\n",
    "totals = pd.DataFrame({\n",
    "    'Beverage': ['Beer', 'Wine', 'Spirits'],\n",
    "    'Total Servings': [total_beer, total_wine, total_spirit]\n",
    "})\n",
    "\n",
    "totals_sorted = totals.sort_values(by='Total Servings', ascending=False).reset_index(drop=True)\n",
    "\n",
    "display(totals_sorted)"
   ]
  }
 ],
 "metadata": {
  "kernelspec": {
   "display_name": ".venv",
   "language": "python",
   "name": "python3"
  },
  "language_info": {
   "codemirror_mode": {
    "name": "ipython",
    "version": 3
   },
   "file_extension": ".py",
   "mimetype": "text/x-python",
   "name": "python",
   "nbconvert_exporter": "python",
   "pygments_lexer": "ipython3",
   "version": "3.11.5"
  }
 },
 "nbformat": 4,
 "nbformat_minor": 5
}
