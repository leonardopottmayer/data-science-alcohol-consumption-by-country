{
 "cells": [
  {
   "cell_type": "markdown",
   "id": "460f9362",
   "metadata": {},
   "source": [
    "## 1. Exploratory data analysis\n",
    "\n",
    "In this initial analysis, we load the dataset and perform a preliminary investigation to understand its structure and characteristics.\n",
    "\n",
    "The goal of exploratory data analysis is to get an overall view of the dataset, identify patterns, detect possible inconsistencies or outliers, check for missing values, and understand the distribution of variables. This step is essential for guiding decisions on data preprocessing, model selection, and analytical approaches in the subsequent stages."
   ]
  },
  {
   "cell_type": "code",
   "execution_count": 38,
   "id": "042466c7",
   "metadata": {},
   "outputs": [],
   "source": [
    "import pandas as pd\n",
    "from matplotlib import pyplot as plt\n",
    "import seaborn as sns"
   ]
  },
  {
   "cell_type": "code",
   "execution_count": 39,
   "id": "84c70814",
   "metadata": {},
   "outputs": [],
   "source": [
    "datasetPath = '../../data/drinks.csv'\n",
    "df = pd.read_csv(datasetPath)   "
   ]
  },
  {
   "cell_type": "markdown",
   "id": "ae480cb0",
   "metadata": {},
   "source": [
    "The `shape` attribute of a DataFrame returns the number of rows and columns in the dataset."
   ]
  },
  {
   "cell_type": "code",
   "execution_count": 40,
   "id": "86b6bddb",
   "metadata": {},
   "outputs": [
    {
     "name": "stdout",
     "output_type": "stream",
     "text": [
      "The dataset has 193 lines and 5 columns.\n"
     ]
    }
   ],
   "source": [
    "dataset_lines, dataset_columns = df.shape\n",
    "print(\"The dataset has {} lines and {} columns.\".format(dataset_lines, dataset_columns))"
   ]
  },
  {
   "cell_type": "markdown",
   "id": "7d2218d1",
   "metadata": {},
   "source": [
    "The `head()` method returns, by default, the first five rows of a DataFrame.\n",
    "\n",
    "This initial preview is useful for quickly understanding the structure of the data, including column names, data types, and the overall format of the dataset. It also helps with the early detection of potential issues, such as missing values, irrelevant columns, or inconsistent data."
   ]
  },
  {
   "cell_type": "code",
   "execution_count": 41,
   "id": "c179cca1",
   "metadata": {},
   "outputs": [
    {
     "data": {
      "text/html": [
       "<div>\n",
       "<style scoped>\n",
       "    .dataframe tbody tr th:only-of-type {\n",
       "        vertical-align: middle;\n",
       "    }\n",
       "\n",
       "    .dataframe tbody tr th {\n",
       "        vertical-align: top;\n",
       "    }\n",
       "\n",
       "    .dataframe thead th {\n",
       "        text-align: right;\n",
       "    }\n",
       "</style>\n",
       "<table border=\"1\" class=\"dataframe\">\n",
       "  <thead>\n",
       "    <tr style=\"text-align: right;\">\n",
       "      <th></th>\n",
       "      <th>country</th>\n",
       "      <th>beer_servings</th>\n",
       "      <th>spirit_servings</th>\n",
       "      <th>wine_servings</th>\n",
       "      <th>total_litres_of_pure_alcohol</th>\n",
       "    </tr>\n",
       "  </thead>\n",
       "  <tbody>\n",
       "    <tr>\n",
       "      <th>0</th>\n",
       "      <td>Afghanistan</td>\n",
       "      <td>0</td>\n",
       "      <td>0</td>\n",
       "      <td>0</td>\n",
       "      <td>0.0</td>\n",
       "    </tr>\n",
       "    <tr>\n",
       "      <th>1</th>\n",
       "      <td>Albania</td>\n",
       "      <td>89</td>\n",
       "      <td>132</td>\n",
       "      <td>54</td>\n",
       "      <td>4.9</td>\n",
       "    </tr>\n",
       "    <tr>\n",
       "      <th>2</th>\n",
       "      <td>Algeria</td>\n",
       "      <td>25</td>\n",
       "      <td>0</td>\n",
       "      <td>14</td>\n",
       "      <td>0.7</td>\n",
       "    </tr>\n",
       "    <tr>\n",
       "      <th>3</th>\n",
       "      <td>Andorra</td>\n",
       "      <td>245</td>\n",
       "      <td>138</td>\n",
       "      <td>312</td>\n",
       "      <td>12.4</td>\n",
       "    </tr>\n",
       "    <tr>\n",
       "      <th>4</th>\n",
       "      <td>Angola</td>\n",
       "      <td>217</td>\n",
       "      <td>57</td>\n",
       "      <td>45</td>\n",
       "      <td>5.9</td>\n",
       "    </tr>\n",
       "  </tbody>\n",
       "</table>\n",
       "</div>"
      ],
      "text/plain": [
       "       country  beer_servings  spirit_servings  wine_servings  \\\n",
       "0  Afghanistan              0                0              0   \n",
       "1      Albania             89              132             54   \n",
       "2      Algeria             25                0             14   \n",
       "3      Andorra            245              138            312   \n",
       "4       Angola            217               57             45   \n",
       "\n",
       "   total_litres_of_pure_alcohol  \n",
       "0                           0.0  \n",
       "1                           4.9  \n",
       "2                           0.7  \n",
       "3                          12.4  \n",
       "4                           5.9  "
      ]
     },
     "execution_count": 41,
     "metadata": {},
     "output_type": "execute_result"
    }
   ],
   "source": [
    "df.head(5)"
   ]
  },
  {
   "cell_type": "markdown",
   "id": "7aec9561",
   "metadata": {},
   "source": [
    "Here, we check whether there is only one record for each country."
   ]
  },
  {
   "cell_type": "code",
   "execution_count": 42,
   "id": "5f079099",
   "metadata": {},
   "outputs": [
    {
     "name": "stdout",
     "output_type": "stream",
     "text": [
      "'country' column has 193 unique values.\n"
     ]
    }
   ],
   "source": [
    "print(f\"'country' column has {df['country'].nunique()} unique values.\")"
   ]
  },
  {
   "cell_type": "markdown",
   "id": "ef13999b",
   "metadata": {},
   "source": [
    "The `dtypes` attribute displays the data type of each column in the DataFrame, such as `int64`, `float64`, or `object` (commonly used for strings), among others.\n",
    "\n",
    "This information is essential to understand how the data is represented internally and to ensure that each column has the appropriate type for future analyses, such as numerical computations, groupings, or data transformations."
   ]
  },
  {
   "cell_type": "code",
   "execution_count": 43,
   "id": "d0b84216",
   "metadata": {},
   "outputs": [
    {
     "data": {
      "text/plain": [
       "country                          object\n",
       "beer_servings                     int64\n",
       "spirit_servings                   int64\n",
       "wine_servings                     int64\n",
       "total_litres_of_pure_alcohol    float64\n",
       "dtype: object"
      ]
     },
     "execution_count": 43,
     "metadata": {},
     "output_type": "execute_result"
    }
   ],
   "source": [
    "df.dtypes"
   ]
  },
  {
   "cell_type": "markdown",
   "id": "b302aac4",
   "metadata": {},
   "source": [
    "The `describe()` method provides a statistical summary of the numerical columns in the DataFrame.\n",
    "\n",
    "It returns metrics such as count, mean, standard deviation, minimum and maximum values, and the quartiles (25%, 50%, 75%), offering an overview of the data distribution. This information is useful for identifying trends, variability, and potential outliers in the numerical variables."
   ]
  },
  {
   "cell_type": "code",
   "execution_count": 44,
   "id": "d83e0045",
   "metadata": {},
   "outputs": [
    {
     "data": {
      "text/html": [
       "<div>\n",
       "<style scoped>\n",
       "    .dataframe tbody tr th:only-of-type {\n",
       "        vertical-align: middle;\n",
       "    }\n",
       "\n",
       "    .dataframe tbody tr th {\n",
       "        vertical-align: top;\n",
       "    }\n",
       "\n",
       "    .dataframe thead th {\n",
       "        text-align: right;\n",
       "    }\n",
       "</style>\n",
       "<table border=\"1\" class=\"dataframe\">\n",
       "  <thead>\n",
       "    <tr style=\"text-align: right;\">\n",
       "      <th></th>\n",
       "      <th>beer_servings</th>\n",
       "      <th>spirit_servings</th>\n",
       "      <th>wine_servings</th>\n",
       "      <th>total_litres_of_pure_alcohol</th>\n",
       "    </tr>\n",
       "  </thead>\n",
       "  <tbody>\n",
       "    <tr>\n",
       "      <th>count</th>\n",
       "      <td>193.000000</td>\n",
       "      <td>193.000000</td>\n",
       "      <td>193.000000</td>\n",
       "      <td>193.000000</td>\n",
       "    </tr>\n",
       "    <tr>\n",
       "      <th>mean</th>\n",
       "      <td>106.160622</td>\n",
       "      <td>80.994819</td>\n",
       "      <td>49.450777</td>\n",
       "      <td>4.717098</td>\n",
       "    </tr>\n",
       "    <tr>\n",
       "      <th>std</th>\n",
       "      <td>101.143103</td>\n",
       "      <td>88.284312</td>\n",
       "      <td>79.697598</td>\n",
       "      <td>3.773298</td>\n",
       "    </tr>\n",
       "    <tr>\n",
       "      <th>min</th>\n",
       "      <td>0.000000</td>\n",
       "      <td>0.000000</td>\n",
       "      <td>0.000000</td>\n",
       "      <td>0.000000</td>\n",
       "    </tr>\n",
       "    <tr>\n",
       "      <th>25%</th>\n",
       "      <td>20.000000</td>\n",
       "      <td>4.000000</td>\n",
       "      <td>1.000000</td>\n",
       "      <td>1.300000</td>\n",
       "    </tr>\n",
       "    <tr>\n",
       "      <th>50%</th>\n",
       "      <td>76.000000</td>\n",
       "      <td>56.000000</td>\n",
       "      <td>8.000000</td>\n",
       "      <td>4.200000</td>\n",
       "    </tr>\n",
       "    <tr>\n",
       "      <th>75%</th>\n",
       "      <td>188.000000</td>\n",
       "      <td>128.000000</td>\n",
       "      <td>59.000000</td>\n",
       "      <td>7.200000</td>\n",
       "    </tr>\n",
       "    <tr>\n",
       "      <th>max</th>\n",
       "      <td>376.000000</td>\n",
       "      <td>438.000000</td>\n",
       "      <td>370.000000</td>\n",
       "      <td>14.400000</td>\n",
       "    </tr>\n",
       "  </tbody>\n",
       "</table>\n",
       "</div>"
      ],
      "text/plain": [
       "       beer_servings  spirit_servings  wine_servings  \\\n",
       "count     193.000000       193.000000     193.000000   \n",
       "mean      106.160622        80.994819      49.450777   \n",
       "std       101.143103        88.284312      79.697598   \n",
       "min         0.000000         0.000000       0.000000   \n",
       "25%        20.000000         4.000000       1.000000   \n",
       "50%        76.000000        56.000000       8.000000   \n",
       "75%       188.000000       128.000000      59.000000   \n",
       "max       376.000000       438.000000     370.000000   \n",
       "\n",
       "       total_litres_of_pure_alcohol  \n",
       "count                    193.000000  \n",
       "mean                       4.717098  \n",
       "std                        3.773298  \n",
       "min                        0.000000  \n",
       "25%                        1.300000  \n",
       "50%                        4.200000  \n",
       "75%                        7.200000  \n",
       "max                       14.400000  "
      ]
     },
     "execution_count": 44,
     "metadata": {},
     "output_type": "execute_result"
    }
   ],
   "source": [
    "df.describe()"
   ]
  },
  {
   "cell_type": "markdown",
   "id": "13ffc617",
   "metadata": {},
   "source": [
    "The instruction `df.isna().sum()` checks for missing (NaN) values in each column of the DataFrame.\n",
    "\n",
    "It returns the count of null values per column, helping to identify variables that may require handling, such as filling, removal, or replacement. This analysis is crucial to ensure data quality before moving on to more advanced steps."
   ]
  },
  {
   "cell_type": "code",
   "execution_count": 45,
   "id": "d8599ae0",
   "metadata": {},
   "outputs": [
    {
     "data": {
      "text/plain": [
       "country                         0\n",
       "beer_servings                   0\n",
       "spirit_servings                 0\n",
       "wine_servings                   0\n",
       "total_litres_of_pure_alcohol    0\n",
       "dtype: int64"
      ]
     },
     "execution_count": 45,
     "metadata": {},
     "output_type": "execute_result"
    }
   ],
   "source": [
    "df.isna().sum()"
   ]
  },
  {
   "cell_type": "markdown",
   "id": "ac111775",
   "metadata": {},
   "source": [
    "The correlation matrix is a structure that shows the strength of the relationship between numerical variables in the dataset, using correlation coefficients (typically Pearson's).\n",
    "\n",
    "Values range from -1 to 1:\n",
    "\n",
    "* 1 indicates a perfect positive correlation (both variables increase together),\n",
    "* -1 indicates a perfect negative correlation (one increases while the other decreases),\n",
    "* 0 indicates no linear correlation.\n",
    "\n",
    "This matrix is useful for identifying strongly related variables, which can guide feature selection decisions or reveal redundancy in the data."
   ]
  },
  {
   "cell_type": "code",
   "execution_count": 46,
   "id": "5e1b2d0f",
   "metadata": {},
   "outputs": [
    {
     "data": {
      "image/png": "[encoded data removed]",
      "text/plain": [
       "<Figure size 640x480 with 2 Axes>"
      ]
     },
     "metadata": {},
     "output_type": "display_data"
    }
   ],
   "source": [
    "df_correlation = df.corr(numeric_only=True)\n",
    "\n",
    "sns.heatmap(df_correlation, annot=True, cmap=\"coolwarm\")\n",
    "plt.title(\"Correlation matrix\")\n",
    "plt.show()"
   ]
  }
 ],
 "metadata": {
  "kernelspec": {
   "display_name": ".venv",
   "language": "python",
   "name": "python3"
  },
  "language_info": {
   "codemirror_mode": {
    "name": "ipython",
    "version": 3
   },
   "file_extension": ".py",
   "mimetype": "text/x-python",
   "name": "python",
   "nbconvert_exporter": "python",
   "pygments_lexer": "ipython3",
   "version": "3.11.5"
  }
 },
 "nbformat": 4,
 "nbformat_minor": 5
}
