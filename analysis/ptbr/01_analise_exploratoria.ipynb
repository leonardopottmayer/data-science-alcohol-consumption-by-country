{
 "cells": [
  {
   "cell_type": "markdown",
   "id": "460f9362",
   "metadata": {},
   "source": [
    "## 1. Análise exploratória dos dados.\n",
    "\n",
    "Nesta análise inicial, carregamos o dataset e realizamos uma investigação preliminar para compreender a estrutura e as características dos dados.\n",
    "\n",
    "O objetivo da análise exploratória é obter uma visão geral do conjunto de dados, identificar padrões, detectar possíveis inconsistências ou outliers, verificar a presença de valores ausentes e compreender as distribuições das variáveis. Essa etapa é essencial para embasar decisões sobre tratamentos de dados, escolhas de modelos e abordagens analíticas nas etapas seguintes."
   ]
  },
  {
   "cell_type": "code",
   "execution_count": 1,
   "id": "042466c7",
   "metadata": {},
   "outputs": [],
   "source": [
    "import pandas as pd\n",
    "from matplotlib import pyplot as plt\n",
    "import seaborn as sns"
   ]
  },
  {
   "cell_type": "code",
   "execution_count": 2,
   "id": "84c70814",
   "metadata": {},
   "outputs": [],
   "source": [
    "datasetPath = '../../data/drinks.csv'\n",
    "df = pd.read_csv(datasetPath)   "
   ]
  },
  {
   "cell_type": "markdown",
   "id": "ae480cb0",
   "metadata": {},
   "source": [
    "O atributo ```shape``` do DataFrame indica quantas linhas e colunas existem no dataset."
   ]
  },
  {
   "cell_type": "code",
   "execution_count": 3,
   "id": "86b6bddb",
   "metadata": {},
   "outputs": [
    {
     "name": "stdout",
     "output_type": "stream",
     "text": [
      "O dataset possui 193 linhas e 5 colunas.\n"
     ]
    }
   ],
   "source": [
    "dataset_lines, dataset_columns = df.shape\n",
    "print(\"O dataset possui {} linhas e {} colunas.\".format(dataset_lines, dataset_columns))"
   ]
  },
  {
   "cell_type": "markdown",
   "id": "7d2218d1",
   "metadata": {},
   "source": [
    "O método ```head()``` retorna, por padrão, as 5 primeiras linhas do DataFrame.\n",
    "\n",
    "Essa visualização inicial é útil para obter uma noção rápida da estrutura dos dados, incluindo os nomes das colunas, os tipos de valores armazenados e o formato geral do dataset. Isso auxilia na identificação preliminar de possíveis problemas, como valores ausentes, colunas irrelevantes ou dados inconsistentes."
   ]
  },
  {
   "cell_type": "code",
   "execution_count": 4,
   "id": "c179cca1",
   "metadata": {},
   "outputs": [
    {
     "data": {
      "text/html": [
       "<div>\n",
       "<style scoped>\n",
       "    .dataframe tbody tr th:only-of-type {\n",
       "        vertical-align: middle;\n",
       "    }\n",
       "\n",
       "    .dataframe tbody tr th {\n",
       "        vertical-align: top;\n",
       "    }\n",
       "\n",
       "    .dataframe thead th {\n",
       "        text-align: right;\n",
       "    }\n",
       "</style>\n",
       "<table border=\"1\" class=\"dataframe\">\n",
       "  <thead>\n",
       "    <tr style=\"text-align: right;\">\n",
       "      <th></th>\n",
       "      <th>country</th>\n",
       "      <th>beer_servings</th>\n",
       "      <th>spirit_servings</th>\n",
       "      <th>wine_servings</th>\n",
       "      <th>total_litres_of_pure_alcohol</th>\n",
       "    </tr>\n",
       "  </thead>\n",
       "  <tbody>\n",
       "    <tr>\n",
       "      <th>0</th>\n",
       "      <td>Afghanistan</td>\n",
       "      <td>0</td>\n",
       "      <td>0</td>\n",
       "      <td>0</td>\n",
       "      <td>0.0</td>\n",
       "    </tr>\n",
       "    <tr>\n",
       "      <th>1</th>\n",
       "      <td>Albania</td>\n",
       "      <td>89</td>\n",
       "      <td>132</td>\n",
       "      <td>54</td>\n",
       "      <td>4.9</td>\n",
       "    </tr>\n",
       "    <tr>\n",
       "      <th>2</th>\n",
       "      <td>Algeria</td>\n",
       "      <td>25</td>\n",
       "      <td>0</td>\n",
       "      <td>14</td>\n",
       "      <td>0.7</td>\n",
       "    </tr>\n",
       "    <tr>\n",
       "      <th>3</th>\n",
       "      <td>Andorra</td>\n",
       "      <td>245</td>\n",
       "      <td>138</td>\n",
       "      <td>312</td>\n",
       "      <td>12.4</td>\n",
       "    </tr>\n",
       "    <tr>\n",
       "      <th>4</th>\n",
       "      <td>Angola</td>\n",
       "      <td>217</td>\n",
       "      <td>57</td>\n",
       "      <td>45</td>\n",
       "      <td>5.9</td>\n",
       "    </tr>\n",
       "  </tbody>\n",
       "</table>\n",
       "</div>"
      ],
      "text/plain": [
       "       country  beer_servings  spirit_servings  wine_servings  \\\n",
       "0  Afghanistan              0                0              0   \n",
       "1      Albania             89              132             54   \n",
       "2      Algeria             25                0             14   \n",
       "3      Andorra            245              138            312   \n",
       "4       Angola            217               57             45   \n",
       "\n",
       "   total_litres_of_pure_alcohol  \n",
       "0                           0.0  \n",
       "1                           4.9  \n",
       "2                           0.7  \n",
       "3                          12.4  \n",
       "4                           5.9  "
      ]
     },
     "execution_count": 4,
     "metadata": {},
     "output_type": "execute_result"
    }
   ],
   "source": [
    "df.head(5)"
   ]
  },
  {
   "cell_type": "markdown",
   "id": "7aec9561",
   "metadata": {},
   "source": [
    "Aqui verificamos se há apenas um registro para cada país."
   ]
  },
  {
   "cell_type": "code",
   "execution_count": 5,
   "id": "5f079099",
   "metadata": {},
   "outputs": [
    {
     "name": "stdout",
     "output_type": "stream",
     "text": [
      "Coluna 'country' possui 193 valores únicos.\n"
     ]
    }
   ],
   "source": [
    "print(f\"Coluna 'country' possui {df['country'].nunique()} valores únicos.\")"
   ]
  },
  {
   "cell_type": "markdown",
   "id": "ef13999b",
   "metadata": {},
   "source": [
    "O atributo ```dtypes``` exibe o tipo de dado de cada coluna do DataFrame, como ```int64```, ```float64```, ```object``` (para strings), entre outros.\n",
    "\n",
    "Essa informação é essencial para entender como os dados estão representados internamente e para garantir que cada coluna tenha o tipo adequado para as análises futuras, como cálculos numéricos, agrupamentos ou conversões de dados."
   ]
  },
  {
   "cell_type": "code",
   "execution_count": 6,
   "id": "d0b84216",
   "metadata": {},
   "outputs": [
    {
     "data": {
      "text/plain": [
       "country                          object\n",
       "beer_servings                     int64\n",
       "spirit_servings                   int64\n",
       "wine_servings                     int64\n",
       "total_litres_of_pure_alcohol    float64\n",
       "dtype: object"
      ]
     },
     "execution_count": 6,
     "metadata": {},
     "output_type": "execute_result"
    }
   ],
   "source": [
    "df.dtypes"
   ]
  },
  {
   "cell_type": "markdown",
   "id": "b302aac4",
   "metadata": {},
   "source": [
    "O método ```describe()``` fornece um resumo estatístico das colunas numéricas do DataFrame.\n",
    "\n",
    "Ele retorna métricas como contagem, média, desvio padrão, valores mínimo e máximo, e os quartis (25%, 50%, 75%), permitindo uma visão geral da distribuição dos dados. Essas informações ajudam a identificar tendências, variabilidade e possíveis outliers nas variáveis numéricas."
   ]
  },
  {
   "cell_type": "code",
   "execution_count": 7,
   "id": "d83e0045",
   "metadata": {},
   "outputs": [
    {
     "data": {
      "text/html": [
       "<div>\n",
       "<style scoped>\n",
       "    .dataframe tbody tr th:only-of-type {\n",
       "        vertical-align: middle;\n",
       "    }\n",
       "\n",
       "    .dataframe tbody tr th {\n",
       "        vertical-align: top;\n",
       "    }\n",
       "\n",
       "    .dataframe thead th {\n",
       "        text-align: right;\n",
       "    }\n",
       "</style>\n",
       "<table border=\"1\" class=\"dataframe\">\n",
       "  <thead>\n",
       "    <tr style=\"text-align: right;\">\n",
       "      <th></th>\n",
       "      <th>beer_servings</th>\n",
       "      <th>spirit_servings</th>\n",
       "      <th>wine_servings</th>\n",
       "      <th>total_litres_of_pure_alcohol</th>\n",
       "    </tr>\n",
       "  </thead>\n",
       "  <tbody>\n",
       "    <tr>\n",
       "      <th>count</th>\n",
       "      <td>193.000000</td>\n",
       "      <td>193.000000</td>\n",
       "      <td>193.000000</td>\n",
       "      <td>193.000000</td>\n",
       "    </tr>\n",
       "    <tr>\n",
       "      <th>mean</th>\n",
       "      <td>106.160622</td>\n",
       "      <td>80.994819</td>\n",
       "      <td>49.450777</td>\n",
       "      <td>4.717098</td>\n",
       "    </tr>\n",
       "    <tr>\n",
       "      <th>std</th>\n",
       "      <td>101.143103</td>\n",
       "      <td>88.284312</td>\n",
       "      <td>79.697598</td>\n",
       "      <td>3.773298</td>\n",
       "    </tr>\n",
       "    <tr>\n",
       "      <th>min</th>\n",
       "      <td>0.000000</td>\n",
       "      <td>0.000000</td>\n",
       "      <td>0.000000</td>\n",
       "      <td>0.000000</td>\n",
       "    </tr>\n",
       "    <tr>\n",
       "      <th>25%</th>\n",
       "      <td>20.000000</td>\n",
       "      <td>4.000000</td>\n",
       "      <td>1.000000</td>\n",
       "      <td>1.300000</td>\n",
       "    </tr>\n",
       "    <tr>\n",
       "      <th>50%</th>\n",
       "      <td>76.000000</td>\n",
       "      <td>56.000000</td>\n",
       "      <td>8.000000</td>\n",
       "      <td>4.200000</td>\n",
       "    </tr>\n",
       "    <tr>\n",
       "      <th>75%</th>\n",
       "      <td>188.000000</td>\n",
       "      <td>128.000000</td>\n",
       "      <td>59.000000</td>\n",
       "      <td>7.200000</td>\n",
       "    </tr>\n",
       "    <tr>\n",
       "      <th>max</th>\n",
       "      <td>376.000000</td>\n",
       "      <td>438.000000</td>\n",
       "      <td>370.000000</td>\n",
       "      <td>14.400000</td>\n",
       "    </tr>\n",
       "  </tbody>\n",
       "</table>\n",
       "</div>"
      ],
      "text/plain": [
       "       beer_servings  spirit_servings  wine_servings  \\\n",
       "count     193.000000       193.000000     193.000000   \n",
       "mean      106.160622        80.994819      49.450777   \n",
       "std       101.143103        88.284312      79.697598   \n",
       "min         0.000000         0.000000       0.000000   \n",
       "25%        20.000000         4.000000       1.000000   \n",
       "50%        76.000000        56.000000       8.000000   \n",
       "75%       188.000000       128.000000      59.000000   \n",
       "max       376.000000       438.000000     370.000000   \n",
       "\n",
       "       total_litres_of_pure_alcohol  \n",
       "count                    193.000000  \n",
       "mean                       4.717098  \n",
       "std                        3.773298  \n",
       "min                        0.000000  \n",
       "25%                        1.300000  \n",
       "50%                        4.200000  \n",
       "75%                        7.200000  \n",
       "max                       14.400000  "
      ]
     },
     "execution_count": 7,
     "metadata": {},
     "output_type": "execute_result"
    }
   ],
   "source": [
    "df.describe()"
   ]
  },
  {
   "cell_type": "markdown",
   "id": "13ffc617",
   "metadata": {},
   "source": [
    "A instrução ```df.isna().sum()``` verifica a presença de valores ausentes (NaN) em cada coluna do DataFrame.\n",
    "\n",
    "Ela retorna a contagem de valores nulos por coluna, permitindo identificar variáveis que podem precisar de tratamento, como preenchimento, exclusão ou substituição. Essa análise é fundamental para garantir a qualidade dos dados antes de prosseguir com etapas mais avançadas."
   ]
  },
  {
   "cell_type": "code",
   "execution_count": 8,
   "id": "d8599ae0",
   "metadata": {},
   "outputs": [
    {
     "data": {
      "text/plain": [
       "country                         0\n",
       "beer_servings                   0\n",
       "spirit_servings                 0\n",
       "wine_servings                   0\n",
       "total_litres_of_pure_alcohol    0\n",
       "dtype: int64"
      ]
     },
     "execution_count": 8,
     "metadata": {},
     "output_type": "execute_result"
    }
   ],
   "source": [
    "df.isna().sum()"
   ]
  },
  {
   "cell_type": "markdown",
   "id": "ac111775",
   "metadata": {},
   "source": [
    "A matriz de correlação é uma estrutura que exibe o grau de relação entre variáveis numéricas do dataset, utilizando coeficientes de correlação (geralmente de Pearson).\n",
    "\n",
    "Os valores variam de -1 a 1:\n",
    "\n",
    "* 1 indica correlação positiva perfeita (as variáveis crescem juntas),\n",
    "\n",
    "* -1 indica correlação negativa perfeita (uma cresce enquanto a outra diminui),\n",
    "\n",
    "* 0 indica ausência de correlação linear.\n",
    "\n",
    "Essa matriz é útil para identificar variáveis fortemente relacionadas, o que pode orientar decisões sobre seleção de features ou indicar redundância nos dados."
   ]
  },
  {
   "cell_type": "code",
   "execution_count": 9,
   "id": "5e1b2d0f",
   "metadata": {},
   "outputs": [
    {
     "data": {
      "image/png": "[encoded data removed]",
      "text/plain": [
       "<Figure size 640x480 with 2 Axes>"
      ]
     },
     "metadata": {},
     "output_type": "display_data"
    }
   ],
   "source": [
    "df_correlation = df.corr(numeric_only=True)\n",
    "\n",
    "sns.heatmap(df_correlation, annot=True, cmap=\"coolwarm\")\n",
    "plt.title(\"Matriz de Correlação\")\n",
    "plt.show()"
   ]
  }
 ],
 "metadata": {
  "kernelspec": {
   "display_name": ".venv",
   "language": "python",
   "name": "python3"
  },
  "language_info": {
   "codemirror_mode": {
    "name": "ipython",
    "version": 3
   },
   "file_extension": ".py",
   "mimetype": "text/x-python",
   "name": "python",
   "nbconvert_exporter": "python",
   "pygments_lexer": "ipython3",
   "version": "3.11.5"
  }
 },
 "nbformat": 4,
 "nbformat_minor": 5
}
